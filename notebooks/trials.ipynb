{
 "cells": [
  {
   "cell_type": "markdown",
   "metadata": {},
   "source": [
    "##### Create a simple chatbot to test the OpenAI api"
   ]
  },
  {
   "cell_type": "code",
   "execution_count": 1,
   "metadata": {},
   "outputs": [
    {
     "name": "stdout",
     "output_type": "stream",
     "text": [
      "How can I help you? - Type 'stop' when you are done.\n",
      "Assistant: The moon is currently in space and orbits around the Earth. Its exact location in the sky changes continually as it progresses through its lunar cycle.\n",
      "Assistant: Currently, there is no commercial means for civilians to travel to the moon. Only astronauts with the proper training and equipment have traveled to the moon as part of space missions. If space tourism becomes more accessible in the future, there may be opportunities for civilians to visit the moon.\n",
      "Assistant: As of now, space agencies like NASA are the only entities that have the capability to send humans to the moon. If you are interested in visiting the moon in the future, it would be advisable to stay informed about any developments in commercial space travel or potential future space tourism opportunities.\n"
     ]
    }
   ],
   "source": [
    "from openai import OpenAI\n",
    "import os\n",
    "import dotenv\n",
    "\n",
    "dotenv.load_dotenv()\n",
    "client = OpenAI(api_key=os.getenv('OPENAI_APIKEY'))\n",
    "\n",
    "conversationarray = [{\"role\": \"system\", \"content\": \"You are an assistant.\"}]\n",
    "print(\"How can I help you? - Type 'stop' when you are done.\")\n",
    "\n",
    "while True:\n",
    "    inputquestion = input(\"Question: \")\n",
    "    \n",
    "    if inputquestion.lower() == 'stop': break\n",
    "    \n",
    "    conversationarray.append({\"role\": \"user\",\"content\": inputquestion})\n",
    "    \n",
    "    response = client.chat.completions.create(\n",
    "        model=\"gpt-3.5-turbo\",\n",
    "        messages=conversationarray\n",
    "    )\n",
    "    \n",
    "    assistant_response = response.choices[0].message.content\n",
    "        \n",
    "    conversationarray.append({\"role\": \"assistant\", \"content\": assistant_response})\n",
    "        \n",
    "    print(f\"Assistant: {assistant_response}\")"
   ]
  }
 ],
 "metadata": {
  "kernelspec": {
   "display_name": "faq_env",
   "language": "python",
   "name": "python3"
  },
  "language_info": {
   "codemirror_mode": {
    "name": "ipython",
    "version": 3
   },
   "file_extension": ".py",
   "mimetype": "text/x-python",
   "name": "python",
   "nbconvert_exporter": "python",
   "pygments_lexer": "ipython3",
   "version": "3.11.2"
  }
 },
 "nbformat": 4,
 "nbformat_minor": 2
}
