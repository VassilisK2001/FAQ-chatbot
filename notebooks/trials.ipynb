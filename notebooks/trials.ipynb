{
 "cells": [
  {
   "cell_type": "markdown",
   "metadata": {},
   "source": [
    "##### Create a simple chatbot to test the OpenAI api"
   ]
  },
  {
   "cell_type": "code",
   "execution_count": 10,
   "metadata": {},
   "outputs": [
    {
     "name": "stdout",
     "output_type": "stream",
     "text": [
      "How can I help you? - Type 'stop' when you are done.\n"
     ]
    },
    {
     "name": "stdout",
     "output_type": "stream",
     "text": [
      "Assistant: Hello! How can I assist you today?\n",
      "Assistant: As of September 2023, the President of the United States is Joe Biden.\n",
      "Assistant: Joe Biden was elected as the 46th President of the United States in November 2020.\n"
     ]
    }
   ],
   "source": [
    "from openai import OpenAI\n",
    "import os\n",
    "import dotenv\n",
    "\n",
    "dotenv.load_dotenv()\n",
    "client = OpenAI(api_key=os.getenv('OPENAI_APIKEY'))\n",
    "\n",
    "conversationarray = [{\"role\": \"system\", \"content\": \"You are an assistant.\"}]\n",
    "print(\"How can I help you? - Type 'stop' when you are done.\")\n",
    "\n",
    "while True:\n",
    "    inputquestion = input(\"Question: \")\n",
    "    \n",
    "    if inputquestion.lower() == 'stop': break\n",
    "    \n",
    "    conversationarray.append({\"role\": \"user\",\"content\": inputquestion})\n",
    "    \n",
    "    response = client.chat.completions.create(\n",
    "        model=\"gpt-3.5-turbo\",\n",
    "        messages=conversationarray\n",
    "    )\n",
    "    \n",
    "    assistant_response = response.choices[0].message.content\n",
    "        \n",
    "    conversationarray.append({\"role\": \"assistant\", \"content\": assistant_response})\n",
    "        \n",
    "    print(f\"Assistant: {assistant_response}\")"
   ]
  }
 ],
 "metadata": {
  "kernelspec": {
   "display_name": "faq_env",
   "language": "python",
   "name": "python3"
  },
  "language_info": {
   "codemirror_mode": {
    "name": "ipython",
    "version": 3
   },
   "file_extension": ".py",
   "mimetype": "text/x-python",
   "name": "python",
   "nbconvert_exporter": "python",
   "pygments_lexer": "ipython3",
   "version": "3.11.2"
  }
 },
 "nbformat": 4,
 "nbformat_minor": 2
}
