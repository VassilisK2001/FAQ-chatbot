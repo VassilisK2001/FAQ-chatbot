{
 "cells": [
  {
   "cell_type": "markdown",
   "metadata": {},
   "source": [
    "##### Create a simple chatbot to test the OpenAI api"
   ]
  },
  {
   "cell_type": "code",
   "execution_count": 1,
   "metadata": {},
   "outputs": [
    {
     "name": "stdout",
     "output_type": "stream",
     "text": [
      "How can I help you? - Type 'stop' when you are done.\n",
      "Assistant: The moon's current location would depend on the time and date you're asking about. You may be able to see the moon if it's visible in the sky during the night. Would you like me to provide information about the expected moon phase and visibility in your location?\n",
      "Assistant: The moon is about 238,855 miles (384,400 kilometers) away from Earth, so physically traveling to the moon is not currently possible for individuals. However, you can still explore and learn more about the moon through telescopes, space missions, virtual reality experiences, and other forms of technology. Would you like me to provide more information about these ways to explore the moon virtually?\n"
     ]
    }
   ],
   "source": [
    "from openai import OpenAI\n",
    "import os\n",
    "from dotenv import load_dotenv\n",
    "\n",
    "load_dotenv()\n",
    "client = OpenAI(api_key = os.getenv('OPENAI_APIKEY'))\n",
    "\n",
    "conversationarray = [{\"role\": \"system\", \"content\": \"You are an assistant.\" }]\n",
    "print(\"How can I help you? - Type 'stop' when you are done.\")\n",
    "\n",
    "while True:\n",
    "    inputquestion = input(\"Question: \")\n",
    "\n",
    "    if inputquestion.lower() == 'stop': break\n",
    "\n",
    "    conversationarray.append({\"role\": \"user\", \"content\": inputquestion})\n",
    "\n",
    "    response = client.chat.completions.create(    \n",
    "        model=\"gpt-3.5-turbo\",\n",
    "        messages=conversationarray\n",
    "    )\n",
    "        \n",
    "\n",
    "    assistant_response = response.choices[0].message.content\n",
    "\n",
    "    conversationarray.append({\"role\": \"assistant\", \"content\": assistant_response})\n",
    "    \n",
    "\n",
    "    print(f\"Assistant: {assistant_response}\")\n"
   ]
  }
 ],
 "metadata": {
  "kernelspec": {
   "display_name": "faq_env",
   "language": "python",
   "name": "python3"
  },
  "language_info": {
   "codemirror_mode": {
    "name": "ipython",
    "version": 3
   },
   "file_extension": ".py",
   "mimetype": "text/x-python",
   "name": "python",
   "nbconvert_exporter": "python",
   "pygments_lexer": "ipython3",
   "version": "3.11.2"
  }
 },
 "nbformat": 4,
 "nbformat_minor": 2
}
